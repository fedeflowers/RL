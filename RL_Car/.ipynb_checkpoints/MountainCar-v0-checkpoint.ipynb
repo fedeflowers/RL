{
 "cells": [
  {
   "cell_type": "markdown",
   "metadata": {},
   "source": [
    "# MountainCar-v0 with Q-learning"
   ]
  },
  {
   "cell_type": "code",
   "execution_count": 9,
   "metadata": {},
   "outputs": [],
   "source": [
    "import gym\n",
    "import random\n",
    "import numpy as np\n",
    "import os"
   ]
  },
  {
   "cell_type": "code",
   "execution_count": 10,
   "metadata": {},
   "outputs": [],
   "source": [
    "env = gym.make('MountainCar-v0')"
   ]
  },
  {
   "cell_type": "code",
   "execution_count": 11,
   "metadata": {},
   "outputs": [
    {
     "name": "stdout",
     "output_type": "stream",
     "text": [
      "Episode 1, Score -200.0\n",
      "Episode 2, Score -200.0\n",
      "Episode 3, Score -200.0\n",
      "Episode 4, Score -200.0\n",
      "Episode 5, Score -200.0\n"
     ]
    }
   ],
   "source": [
    "#doent work, we need to build momentum\n",
    "episodes = 5\n",
    "for episode in range(1, episodes+1):\n",
    "    env.reset()\n",
    "    score = 0\n",
    "    done = False\n",
    "    while not done:\n",
    "        action = 2 #push right\n",
    "        state, reward, done, info = env.step(action)\n",
    "        score += reward\n",
    "        env.render()\n",
    "    print('Episode {}, Score {}'.format(episode,score))\n",
    "env.close()"
   ]
  },
  {
   "cell_type": "markdown",
   "metadata": {},
   "source": [
    "# Create Q-table, for every state -> best action to do.\n",
    "# State = comb of vel and position"
   ]
  },
  {
   "cell_type": "code",
   "execution_count": 58,
   "metadata": {},
   "outputs": [],
   "source": [
    "# convert continous values of states in descrete values\n",
    "DISCRETE_OS_SIZE = [20] * len(env.observation_space.high) #every comb of position and velocity\n",
    "discrete_os_win_size = (env.observation_space.high - env.observation_space.low)/DISCRETE_OS_SIZE#how big the buckets for every possible parameter\n",
    "\n",
    "LEARNING_RATE = 0.1\n",
    "DISCOUNT = 0.95 #how important we define future actions vs current actions\n",
    "EPISODES = 25000\n",
    "SHOW = 2000"
   ]
  },
  {
   "cell_type": "code",
   "execution_count": 59,
   "metadata": {},
   "outputs": [],
   "source": [
    "#initialize q_table, 20 by 20 by 3\n",
    "q_table = np.random.uniform(low = -2, high = 0, size=(DISCRETE_OS_SIZE+ [env.action_space.n]))#every comb of vel and pos with the actions possible, the possible values are -2,0"
   ]
  },
  {
   "cell_type": "code",
   "execution_count": 60,
   "metadata": {},
   "outputs": [],
   "source": [
    "def get_discrete_state(state):\n",
    "    discrete_state = (state - env.observation_space.low) / discrete_os_win_size #rivedere\n",
    "    return tuple(discrete_state.astype(np.int))"
   ]
  },
  {
   "cell_type": "markdown",
   "metadata": {},
   "source": [
    "# Q-learning"
   ]
  },
  {
   "cell_type": "code",
   "execution_count": null,
   "metadata": {},
   "outputs": [],
   "source": [
    "for episode in range(1, EPISODES+1):\n",
    "    if episode % SHOW == 0:\n",
    "        render = True\n",
    "    else:\n",
    "        render = False\n",
    "    discrete_state = get_discrete_state(env.reset())\n",
    "    done = False\n",
    "    score = 0\n",
    "    while not done:\n",
    "        action = np.argmax(q_table[discrete_state])\n",
    "        new_state, reward, done, info = env.step(action)\n",
    "        \n",
    "        new_discrite_state = get_discrete_state(new_state)\n",
    "        \n",
    "        score += reward\n",
    "        if render:\n",
    "            env.render()\n",
    "        if not done: #update table\n",
    "            max_future_q = np.max(q_table[new_discrite_state])\n",
    "            current_q = q_table[discrete_state + (action, )]\n",
    "            \n",
    "            new_q = (1-LEARNING_RATE) * current_q + LEARNING_RATE * (reward + DISCOUNT * max_future_q)\n",
    "            q_table[discrete_state + (action, )] = new_q\n",
    "        elif new_state[0] >= env.goal_position:\n",
    "            q_table[discrete_state + (action,)] = 0\n",
    "        \n",
    "        discrete_state = new_discrite_state\n",
    "        \n",
    "    print('Episode {}, Score {}'.format(episode,score))\n",
    "env.close()"
   ]
  },
  {
   "cell_type": "code",
   "execution_count": 65,
   "metadata": {},
   "outputs": [],
   "source": [
    "env.close()"
   ]
  }
 ],
 "metadata": {
  "kernelspec": {
   "display_name": "Python 3",
   "language": "python",
   "name": "python3"
  },
  "language_info": {
   "codemirror_mode": {
    "name": "ipython",
    "version": 3
   },
   "file_extension": ".py",
   "mimetype": "text/x-python",
   "name": "python",
   "nbconvert_exporter": "python",
   "pygments_lexer": "ipython3",
   "version": "3.7.3"
  }
 },
 "nbformat": 4,
 "nbformat_minor": 2
}
